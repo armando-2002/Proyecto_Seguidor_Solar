{
 "cells": [
  {
   "cell_type": "markdown",
   "metadata": {},
   "source": [
    "---\n",
    "Proyecto del seguidor solar implementacion en codigo\n",
    "---\n",
    "Grupo #1\n",
    "---"
   ]
  },
  {
   "cell_type": "markdown",
   "metadata": {},
   "source": [
    "---\n",
    "Librerias\n",
    "---"
   ]
  },
  {
   "cell_type": "code",
   "execution_count": 49,
   "metadata": {},
   "outputs": [],
   "source": [
    "from ipywidgets import interact, widgets\n",
    "from IPython.display import display\n",
    "import matplotlib.pyplot as plt\n",
    "from mpl_toolkits.mplot3d import Axes3D\n",
    "from datetime import datetime, timedelta\n",
    "import numpy as np\n",
    "from pytz import timezone\n",
    "import math\n",
    "from pysolar.solar import get_altitude, get_azimuth\n",
    "import ipywidgets as widgets\n",
    "from IPython.display import display"
   ]
  },
  {
   "cell_type": "markdown",
   "metadata": {},
   "source": [
    "---\n",
    "Calculo de Angulos Pitch y Roll \n",
    "---"
   ]
  },
  {
   "cell_type": "code",
   "execution_count": 50,
   "metadata": {},
   "outputs": [
    {
     "name": "stdout",
     "output_type": "stream",
     "text": [
      "Ángulo de Pitch: -13.04°\n",
      "Ángulo de Roll: 169.80°\n"
     ]
    }
   ],
   "source": [
    "def obtenerPosicionSolar(\n",
    "    latitud: float = -0.2105367,\n",
    "    longitud: float = -78.491614,\n",
    "    fecha: datetime = datetime.now(tz=timezone(\"America/Guayaquil\")),\n",
    "):\n",
    "    \"\"\"Calcula el azimut y la elevación para una posición geográfica y fecha.\n",
    "\n",
    "    Parameters:\n",
    "    latitud (float): Latitud del lugar.\n",
    "    longitud (float): Longitud del alugar.\n",
    "    fecha (datetime): Fecha y hora.\n",
    "\n",
    "    Returns:\n",
    "    float, float: Azimut (en grados), Elevación (en grados).\n",
    "    \"\"\"\n",
    "    azimut = get_azimuth(latitud, longitud, fecha)\n",
    "    elevacion = get_altitude(latitud, longitud, fecha)\n",
    "\n",
    "    return azimut, elevacion\n",
    "\n",
    "\n",
    "def calcularAngulosDeControl(azimut, elevacion):\n",
    "    \"\"\"Calcula los ángulos de control pitch y roll basados en el azimut y la elevación solar.\n",
    "\n",
    "    Parameters:\n",
    "    azimut (float): Azimut en grados.\n",
    "    elevacion (float): Elevación en grados.\n",
    "\n",
    "    Returns:\n",
    "    float, float: Ángulo de pitch (en grados), Ángulo de roll (en grados).\n",
    "    \"\"\"\n",
    "    theta = math.radians(elevacion)\n",
    "    alpha = math.radians(azimut)\n",
    "\n",
    "    # Fórmula del ángulo de cabeceo (pitch):\n",
    "    # p = arcsin(-cos(θ) * cos(α))\n",
    "    pitch = math.degrees(math.asin(-math.cos(theta) * math.cos(alpha)))\n",
    "\n",
    "    # Fórmula del ángulo de balanceo (roll):\n",
    "    # r = arccos(sin(θ) / cos(p))\n",
    "    if math.cos(math.radians(pitch)) != 0:\n",
    "        roll = math.degrees(math.acos(math.sin(theta) / math.cos(math.radians(pitch))))\n",
    "    else:\n",
    "        roll = 0\n",
    "\n",
    "    return pitch, roll\n",
    "\n",
    "\n",
    "if __name__ == \"__main__\":\n",
    "    azimut, elevacion = obtenerPosicionSolar()\n",
    "\n",
    "    pitch, roll = calcularAngulosDeControl(azimut, elevacion)\n",
    "\n",
    "    print(f\"Ángulo de Pitch: {pitch:.2f}°\")\n",
    "    print(f\"Ángulo de Roll: {roll:.2f}°\")"
   ]
  },
  {
   "cell_type": "markdown",
   "metadata": {},
   "source": [
    "---\n",
    "Interfaz Grafica\n",
    "---"
   ]
  },
  {
   "cell_type": "code",
   "execution_count": 57,
   "metadata": {},
   "outputs": [
    {
     "data": {
      "application/vnd.jupyter.widget-view+json": {
       "model_id": "f5b49d42d772439897b11f4ab8dee35b",
       "version_major": 2,
       "version_minor": 0
      },
      "text/plain": [
       "interactive(children=(DatePicker(value=None, description='Fecha:', step=1), Dropdown(description='Hora Inicial…"
      ]
     },
     "metadata": {},
     "output_type": "display_data"
    }
   ],
   "source": [
    "def plotSunAndPanelTrajectory(start_date, duration_hours, start_hour, latitude=-0.2105367, longitude=-78.491614):\n",
    "    \"\"\"Dibuja la trayectoria del sol y del panel solar de manera interactiva.\"\"\"\n",
    "    if start_date.tzinfo is None:\n",
    "        start_date = timezone(\"America/Guayaquil\").localize(start_date)\n",
    "\n",
    "    end_date = start_date + timedelta(hours=duration_hours)\n",
    "    times = [start_date + timedelta(minutes=10*i) for i in range(int((end_date - start_date).total_seconds() / 600))]\n",
    "    \n",
    "    azimuths, elevations, pitches, rolls = zip(*[\n",
    "        (*obtenerPosicionSolar(latitude, longitude, time), *calcularAngulosDeControl(*obtenerPosicionSolar(latitude, longitude, time)))\n",
    "        for time in times\n",
    "    ])\n",
    "\n",
    "    # Convertir azimut y elevación a coordenadas 3D\n",
    "    sun_x = np.cos(np.radians(elevations)) * np.sin(np.radians(azimuths))\n",
    "    sun_y = np.cos(np.radians(elevations)) * np.cos(np.radians(azimuths))\n",
    "    sun_z = np.sin(np.radians(elevations))\n",
    "\n",
    "    # Convertir pitch y roll a coordenadas 3D\n",
    "    panel_x = np.cos(np.radians(pitches)) * np.sin(np.radians(rolls))\n",
    "    panel_y = np.cos(np.radians(pitches)) * np.cos(np.radians(rolls))\n",
    "    panel_z = np.sin(np.radians(pitches))\n",
    "\n",
    "    fig = plt.figure()\n",
    "    ax = fig.add_subplot(111, projection='3d')\n",
    "    ax.plot(sun_x, sun_y, sun_z, label='Trayectoria del Sol', color='yellow')\n",
    "    ax.plot(panel_x, panel_y, panel_z, label='Orientación del Panel', color='red')\n",
    "\n",
    "    ax.set_xlabel('X')\n",
    "    ax.set_ylabel('Y')\n",
    "    ax.set_zlabel('Z')\n",
    "    ax.set_title(f'Trayectoria del Sol y Orientación del Panel Solar\\nFecha: {start_date.strftime(\"%Y-%m-%d\")}, Hora Inicial: {start_hour}:00, Duración: {duration_hours}h')\n",
    "    ax.legend()\n",
    "    plt.show()\n",
    "\n",
    "def interactive_plot():\n",
    "    \"\"\"Crea una interfaz interactiva para ingresar la fecha, hora inicial y duración de la simulación.\"\"\"\n",
    "    date_picker = widgets.DatePicker(description='Fecha:', disabled=False)\n",
    "    \n",
    "    # Menú desplegable para seleccionar la hora inicial\n",
    "    time_picker = widgets.Dropdown(\n",
    "        options=[(f'{i}:00', i) for i in range(24)],\n",
    "        value=6,\n",
    "        description='Hora Inicial:',\n",
    "        disabled=False,\n",
    "    )\n",
    "    \n",
    "    # Slider para seleccionar la duración\n",
    "    duration_slider = widgets.FloatSlider(\n",
    "        value=12,\n",
    "        min=1,\n",
    "        max=24,\n",
    "        step=1,\n",
    "        description='Duración (h):',\n",
    "        disabled=False,\n",
    "    )\n",
    "\n",
    "    # Función de actualización del gráfico\n",
    "    def update_plot(date, start_hour, duration):\n",
    "        start_datetime = datetime.combine(date, datetime.min.time()) + timedelta(hours=start_hour)\n",
    "        start_datetime = timezone(\"America/Guayaquil\").localize(start_datetime)\n",
    "        plotSunAndPanelTrajectory(start_datetime, duration, start_hour)\n",
    "\n",
    "    # Uso de widgets.interactive para actualizar automáticamente el gráfico\n",
    "    interact = widgets.interactive(update_plot, date=date_picker, start_hour=time_picker, duration=duration_slider)\n",
    "\n",
    "    # Mostrar los widgets\n",
    "    display(interact)\n",
    "\n",
    "if __name__ == \"__main__\":\n",
    "    interactive_plot()"
   ]
  }
 ],
 "metadata": {
  "kernelspec": {
   "display_name": "Python 3",
   "language": "python",
   "name": "python3"
  },
  "language_info": {
   "codemirror_mode": {
    "name": "ipython",
    "version": 3
   },
   "file_extension": ".py",
   "mimetype": "text/x-python",
   "name": "python",
   "nbconvert_exporter": "python",
   "pygments_lexer": "ipython3",
   "version": "3.12.5"
  }
 },
 "nbformat": 4,
 "nbformat_minor": 2
}
